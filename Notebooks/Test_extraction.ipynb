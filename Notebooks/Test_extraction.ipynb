{
 "cells": [
  {
   "cell_type": "markdown",
   "metadata": {},
   "source": [
    "## Extracting the News From URL"
   ]
  },
  {
   "cell_type": "code",
   "execution_count": 2,
   "metadata": {},
   "outputs": [],
   "source": [
    "import numpy as np\n",
    "import pandas as pd"
   ]
  },
  {
   "cell_type": "code",
   "execution_count": 3,
   "metadata": {},
   "outputs": [],
   "source": [
    "import requests\n",
    "# \n",
    "url = f\"https://newsapi.org/v2/everything?q=Tesla&apiKey=a7d16eaa9d7489fae472b23492c9a6b&pageSize=20\"\n",
    "response = requests.get(url)\n"
   ]
  },
  {
   "cell_type": "code",
   "execution_count": 4,
   "metadata": {},
   "outputs": [],
   "source": [
    "def data_():\n",
    "    if response.status_code == 200:\n",
    "         return response.json()\n",
    "    else:\n",
    "        print(f\"Error fetching data: {response.status_code}\")\n",
    "        return None"
   ]
  },
  {
   "cell_type": "code",
   "execution_count": null,
   "metadata": {},
   "outputs": [
    {
     "name": "stdout",
     "output_type": "stream",
     "text": [
      "Error fetching data: 401\n"
     ]
    }
   ],
   "source": [
    "data=data_()\n",
    "data #facing error to load the news"
   ]
  },
  {
   "cell_type": "code",
   "execution_count": 7,
   "metadata": {},
   "outputs": [],
   "source": [
    "import requests\n",
    "\n",
    "# Define a function to get data from an API\n",
    "def data_(company_name,api_key,num_articles=10):\n",
    "    url = f\"https://newsapi.org/v2/everything?q={company_name}&apiKey={api_key}&pageSize={num_articles}\" # Example API URL\n",
    "    response = requests.get(url)  \n",
    "    \n",
    " # Check if response is successful\n",
    "    if response.status_code == 200: \n",
    "        return response.json()\n",
    "    else:\n",
    "        print(f\"Error fetching data: {response.status_code}\")\n",
    "        return None"
   ]
  },
  {
   "cell_type": "code",
   "execution_count": 8,
   "metadata": {},
   "outputs": [],
   "source": [
    "# Call the function and assign data to variable\n",
    "company_name = \"Tesla\"\n",
    "api_key = \"3a7d16eaa9d7489fae472b23492c9a6b\" \n",
    "data = data_(company_name,api_key)"
   ]
  },
  {
   "cell_type": "code",
   "execution_count": 9,
   "metadata": {},
   "outputs": [
    {
     "data": {
      "text/plain": [
       "{'status': 'ok',\n",
       " 'totalResults': 15701,\n",
       " 'articles': [{'source': {'id': 'the-verge', 'name': 'The Verge'},\n",
       "   'author': 'Andrew J. Hawkins',\n",
       "   'title': 'Is Tesla cooked?',\n",
       "   'description': 'Tesla stock plunged 15 percent on Monday, its steepest drop in five years. The price is down over 50 percent since its December highs. Tesla owners, disgusted with Elon Muskâ\\x80\\x99s slash-and-burn tactics for the Trump administration, are selling their vehicles a…',\n",
       "   'url': 'https://www.theverge.com/tesla/627894/tesla-stock-sales-protest-musk-trump-doge',\n",
       "   'urlToImage': 'https://platform.theverge.com/wp-content/uploads/sites/2/2025/03/STK022_ELON_MUSK_4_CVIRGINIA_B.webp?quality=90&strip=all&crop=0%2C10.732984293194%2C100%2C78.534031413613&w=1200',\n",
       "   'publishedAt': '2025-03-11T22:17:04Z',\n",
       "   'content': 'The CEO is absent, the stocks are plummeting, and the brand is toxic. Teslas future looks grim. \\r\\nThe CEO is absent, the stocks are plummeting, and the brand is toxic. Teslas future looks grim. \\r\\nTes… [+10200 chars]'},\n",
       "  {'source': {'id': 'the-verge', 'name': 'The Verge'},\n",
       "   'author': 'Nilay Patel',\n",
       "   'title': 'How the Tesla brand turned so toxic',\n",
       "   'description': 'Today we’re talking about the protests against Tesla, which have been branded on social media under the hashtag Tesla Takedown. The protests are, of course, a reaction to Elon Musk, who has managed to install himself as basically a not-so-shadow president who…',\n",
       "   'url': 'https://www.theverge.com/decoder-podcast-with-nilay-patel/633200/tesla-takedown-protest-elon-musk-toxic',\n",
       "   'urlToImage': 'https://platform.theverge.com/wp-content/uploads/sites/2/2025/03/DCD_0320.jpg?quality=90&strip=all&crop=0%2C10.732984293194%2C100%2C78.534031413613&w=1200',\n",
       "   'publishedAt': '2025-03-20T13:19:47Z',\n",
       "   'content': 'How the Tesla brand turned so toxic\\r\\nThe Tesla Takedown movement is rallying against Elon Musk, and its only getting bigger.\\r\\nHow the Tesla brand turned so toxic\\r\\nThe Tesla Takedown movement is rally… [+3899 chars]'},\n",
       "  {'source': {'id': 'the-verge', 'name': 'The Verge'},\n",
       "   'author': 'Richard Lawler',\n",
       "   'title': 'US attorney general re-announces ‘severe’ charges against alleged Tesla arsonists',\n",
       "   'description': 'As reports of vandalism and even a supposed doxing website targeting Tesla locations and vehicles continue to appear, Attorney General Pam Bondi issued a new warning about old crimes. In a Department of Justice press release, she “announced charges against th…',\n",
       "   'url': 'https://www.theverge.com/news/633445/pam-bondi-announces-old-tesla-vandalism-arrests',\n",
       "   'urlToImage': 'https://platform.theverge.com/wp-content/uploads/sites/2/2025/03/gettyimages-2205773666.jpg?quality=90&strip=all&crop=0%2C13.641556866819%2C83.6%2C63.333858116722&w=1200',\n",
       "   'publishedAt': '2025-03-20T22:21:51Z',\n",
       "   'content': 'But in a scary voice this time.\\r\\nBut in a scary voice this time.\\r\\nAs reports of vandalism and even a supposed doxing website targeting Tesla locations and vehicles continue to appear, Attorney Genera… [+1366 chars]'},\n",
       "  {'source': {'id': 'wired', 'name': 'Wired'},\n",
       "   'author': 'Aarian Marshall',\n",
       "   'title': \"Tesla Got a Permit to Operate a Taxi Service in California—but There's a Catch\",\n",
       "   'description': \"The taxi service will initially operate with Tesla employee drivers only, use current-model vehicles, and won't allow for driverless rides.\",\n",
       "   'url': 'https://www.wired.com/story/tesla-got-a-permit-to-operate-a-taxi-service-in-california-but-theres-a-catch/',\n",
       "   'urlToImage': 'https://media.wired.com/photos/67d9e302de323b7691481579/191:100/w_1280,c_limit/Gear_Cybercab_GettyImages-2193378832.jpg',\n",
       "   'publishedAt': '2025-03-18T21:53:25Z',\n",
       "   'content': 'Tesla has been granted a permit to operate a taxi service in California, a spokesperson for the California Public Utilities Commission, a state regulator, said Tuesday. It marks the first step toward… [+3418 chars]'},\n",
       "  {'source': {'id': 'the-verge', 'name': 'The Verge'},\n",
       "   'author': 'Andrew J. Hawkins',\n",
       "   'title': 'Ford’s Tesla Supercharger adapters are now on sale for $200',\n",
       "   'description': 'Ford is making some changes to how it handles its EV charging accessories. The company was the first to announce its plans to\\xa0adopt Tesla’s North American Charging Standard\\xa0(NACS) connector for its EVs, and was also first to distribute NACS adapters to its EV…',\n",
       "   'url': 'https://www.theverge.com/news/627230/ford-nacs-adapter-tesla-supercharger-price',\n",
       "   'urlToImage': 'https://platform.theverge.com/wp-content/uploads/sites/2/2025/03/Ford-Charging-Adapter_Connecting.jpg?quality=90&strip=all&crop=0%2C10.732984293194%2C100%2C78.534031413613&w=1200',\n",
       "   'publishedAt': '2025-03-10T22:23:54Z',\n",
       "   'content': 'Ford has dealt with delays and supply shortages in getting NACS adapters to customers.\\r\\nFord has dealt with delays and supply shortages in getting NACS adapters to customers.\\r\\nFord is making some cha… [+2338 chars]'},\n",
       "  {'source': {'id': 'the-verge', 'name': 'The Verge'},\n",
       "   'author': 'Andrew J. Hawkins',\n",
       "   'title': 'Tesla Superchargers coming to dozens of Steak ‘n Shake locations',\n",
       "   'description': 'Tesla is planning to install dozens of Supercharger sites at Steak ‘n Shake locations across the country, according to an exchange between the companies on X. The companies have signed an agreement for over six sites, with over 20 more to come. And if Steak ‘…',\n",
       "   'url': 'https://www.theverge.com/news/621810/tesla-supercharger-steak-n-shake-partnership',\n",
       "   'urlToImage': 'https://platform.theverge.com/wp-content/uploads/sites/2/2025/02/gettyimages-2193195652.jpg?quality=90&strip=all&crop=0%2C10.484351094599%2C100%2C79.031297810802&w=1200',\n",
       "   'publishedAt': '2025-02-28T19:31:25Z',\n",
       "   'content': 'Tesla is planning to install dozens of Supercharger sites at Steak ‘n Shake locations across the country, according to an exchange between the companies on X. The companies have signed an agreement f… [+1851 chars]'},\n",
       "  {'source': {'id': 'wired', 'name': 'Wired'},\n",
       "   'author': 'Aarian Marshall',\n",
       "   'title': 'Ford Is Sticking With an EV Future',\n",
       "   'description': 'CEO Jim Farley tells us that every qualified owner of a Ford electric car has received an adaptor that allows them to charge up at Tesla-operated Supercharger stations.',\n",
       "   'url': 'https://www.wired.com/story/ford-ev-charging-adapters-for-tesla-superchargers/',\n",
       "   'urlToImage': 'https://media.wired.com/photos/67cef3290b79bb0f653a06c3/191:100/w_1280,c_limit/Ford%20Charging%20Adapter_Mustang%20Mach-E_2_.jpg',\n",
       "   'publishedAt': '2025-03-11T12:00:00Z',\n",
       "   'content': 'The road to progress has never been smooth. Witness, as a metaphor, the trials and tribulations of the Ford Motor Company as it has tried to sell electric vehicle drivers the premier charging experie… [+3080 chars]'},\n",
       "  {'source': {'id': 'wired', 'name': 'Wired'},\n",
       "   'author': 'Jeremy White',\n",
       "   'title': 'Donald Trump Bought a $90,000 Tesla With 37 Recall Notices Against It',\n",
       "   'description': \"Here's hoping Elon Musk won't have to personally fix President Trump's new EV anytime soon.\",\n",
       "   'url': 'https://www.wired.com/story/donald-trump-bought-a-dollar90000-tesla-with-37-recall-notices-against-it/',\n",
       "   'urlToImage': 'https://media.wired.com/photos/67d1b556d38aff896fec27be/191:100/w_1280,c_limit/trump-tesla-gear-2204588044.jpg',\n",
       "   'publishedAt': '2025-03-12T16:45:25Z',\n",
       "   'content': \"Likely referring to the significant negative coverage of Musk's efforts leading the so-called Department of Government Efficiency (DOGE), the president committed to buying a Tesla via TruthSocial on … [+2607 chars]\"},\n",
       "  {'source': {'id': 'the-verge', 'name': 'The Verge'},\n",
       "   'author': 'Andrew J. Hawkins',\n",
       "   'title': 'Tesla Cybertruck deliveries reportedly on hold because the trim is flying off',\n",
       "   'description': 'America’s favorite low poly electric truck is facing a new set of problems that don’t have anything to do with people spray painting swastikas or crude comments about Elon Musk on them. Deliveries of the Tesla Cybertruck are on hold while the company addresse…',\n",
       "   'url': 'https://www.theverge.com/news/629352/tesla-cybertruck-deliveries-on-hold-loose-trim',\n",
       "   'urlToImage': 'https://platform.theverge.com/wp-content/uploads/sites/2/chorus/uploads/chorus_asset/file/25830320/STKS493_CYBERTRUCK_CVIRGINIA_B.jpg?quality=90&strip=all&crop=0%2C10.732984293194%2C100%2C78.534031413613&w=1200',\n",
       "   'publishedAt': '2025-03-13T19:36:28Z',\n",
       "   'content': 'America’s favorite low poly electric truck is facing a new set of problems that don’t have anything to do with people spray painting swastikas or crude comments about Elon Musk on them. Deliveries of… [+1951 chars]'},\n",
       "  {'source': {'id': 'the-verge', 'name': 'The Verge'},\n",
       "   'author': 'Umar Shakir',\n",
       "   'title': 'Elon Musk made more promises about Optimus and Cybercabs at Tesla’s surprise all-hands meeting',\n",
       "   'description': 'At a surprise all-hands-on meeting Thursday night in Texas, Tesla CEO Elon Musk rallied up his company’s employees as the brand’s public reputation continues to plummet, Business Insider reports. At the livestreamed meeting, Musk told employees to “hang on to…',\n",
       "   'url': 'https://www.theverge.com/news/633907/elon-musk-tesla-employee-meeting-stock-value-drop-cybercab-optimus',\n",
       "   'urlToImage': 'https://platform.theverge.com/wp-content/uploads/sites/2/2025/01/STK022_ELON_MUSK_2_CVIRGINIA_B.jpg?quality=90&strip=all&crop=0%2C9.9676601489831%2C100%2C80.064679702034&w=1200',\n",
       "   'publishedAt': '2025-03-21T16:35:15Z',\n",
       "   'content': 'The Tesla CEO pleads with employees (and, indirectly, to investors) to hang onto their stocks.\\r\\nThe Tesla CEO pleads with employees (and, indirectly, to investors) to hang onto their stocks.\\r\\nAt a su… [+2089 chars]'}]}"
      ]
     },
     "execution_count": 9,
     "metadata": {},
     "output_type": "execute_result"
    }
   ],
   "source": [
    "# Print the fetched data\n",
    "data"
   ]
  },
  {
   "cell_type": "code",
   "execution_count": 10,
   "metadata": {},
   "outputs": [
    {
     "name": "stdout",
     "output_type": "stream",
     "text": [
      "{\n",
      "    \"Company\": \"Google\",\n",
      "    \"Articles\": [\n",
      "        {\n",
      "            \"Title\": \"How to find images in Google Photos\",\n",
      "            \"Summary\": \"Google Photos makes backing up photos and videos from your phone pretty seamless: set it to work in the background and all your precious memories are saved to the cloud without you having to do anything else.Â Â  The smoothness of this process does tend to me…\"\n",
      "        },\n",
      "        {\n",
      "            \"Title\": \"Google Drive gets searchable video transcripts\",\n",
      "            \"Summary\": \"Google has announced new searchable transcripts for videos you store in Google Drive. The feature is rolling out to all Google Workspace users, starting today and finishing by March 26th. The transcripts look a lot like those you’d see on YouTube. If one is a…\"\n",
      "        },\n",
      "        {\n",
      "            \"Title\": \"Chegg sues Google over AI Overviews\",\n",
      "            \"Summary\": \"Online education company Chegg filed a lawsuit on February 24th against Google claiming that the company’s AI-generated summaries of search results have hurt its traffic and revenue, Reuters reports. It’s believed to be the first antitrust lawsuit filed by a …\"\n",
      "        },\n",
      "        {\n",
      "            \"Title\": \"This Google change is breaking some digital photo frames\",\n",
      "            \"Summary\": \"Google is changing the way apps can access Google Photos libraries, which is creating problems for owners of some digital photo frames. While the change is designed to make your photo library more private, it’s also breaking how digital photo frames — such as…\"\n",
      "        },\n",
      "        {\n",
      "            \"Title\": \"Google acquires cybersecurity firm Wiz for $32 billion\",\n",
      "            \"Summary\": \"Google’s parent company, Alphabet, has announced its largest-ever acquisition, entering into a deal to buy New York-based cybersecurity firm Wiz, making it a part of its Google Cloud division. This is the company’s second attempt to buy Wiz after talks stalle…\"\n",
      "        },\n",
      "        {\n",
      "            \"Title\": \"Google Play is going to start highlighting apps with widgets\",\n",
      "            \"Summary\": \"Google is making some changes to Google Play on Android devices to better highlight apps that include widgets, according to a blog post. The changes include a new search filter for widgets, widget badges on app detail pages, and a curated editorial page dedic…\"\n",
      "        }\n",
      "    ]\n",
      "}\n"
     ]
    }
   ],
   "source": [
    "import requests\n",
    "import json\n",
    "\n",
    "# Define function to fetch news articles using NewsAPI\n",
    "def fetch_news(company_name, api_key, num_articles=10):\n",
    "    url = f\"https://newsapi.org/v2/everything?q={company_name}&apiKey={api_key}&pageSize={num_articles}\"\n",
    "    response = requests.get(url)\n",
    "    \n",
    "    if response.status_code == 200:\n",
    "        data = response.json()\n",
    "        articles = []\n",
    "        for article in data[\"articles\"]:\n",
    "            articles.append({\n",
    "                \"Title\": article[\"title\"],\n",
    "                \"Summary\": article[\"description\"],\n",
    "            })\n",
    "        return articles\n",
    "    else:\n",
    "        print(f\"Error fetching news: {response.status_code}\")\n",
    "        return []\n",
    "\n",
    "# Input company name and API key\n",
    "company_name = \"Google\"\n",
    "api_key = \"3a7d16eaa9d7489fae472b23492c9a6b\"  # Replace with your NewsAPI key\n",
    "news_articles = fetch_news(company_name, api_key)\n",
    "\n",
    "# Print extracted articles in JSON format\n",
    "output = {\n",
    "    \"Company\": company_name,\n",
    "    \"Articles\": news_articles\n",
    "}\n",
    "\n",
    "print(json.dumps(output, indent=4, ensure_ascii=False))\n"
   ]
  },
  {
   "cell_type": "markdown",
   "metadata": {},
   "source": [
    "## Sentiment Analysis"
   ]
  },
  {
   "cell_type": "code",
   "execution_count": 11,
   "metadata": {},
   "outputs": [],
   "source": [
    "from textblob import TextBlob"
   ]
  },
  {
   "cell_type": "code",
   "execution_count": 12,
   "metadata": {},
   "outputs": [
    {
     "data": {
      "text/plain": [
       "'Today we’re talking about the protests against Tesla, which have been branded on social media under the hashtag Tesla Takedown. The protests are, of course, a reaction to Elon Musk, who has managed to install himself as basically a not-so-shadow president who…'"
      ]
     },
     "execution_count": 12,
     "metadata": {},
     "output_type": "execute_result"
    }
   ],
   "source": [
    "data['articles'][1]['description']"
   ]
  },
  {
   "cell_type": "code",
   "execution_count": 13,
   "metadata": {},
   "outputs": [
    {
     "data": {
      "text/plain": [
       "0.03333333333333333"
      ]
     },
     "execution_count": 13,
     "metadata": {},
     "output_type": "execute_result"
    }
   ],
   "source": [
    "text=data['articles'][1]['description']\n",
    "analysis = TextBlob(text)\n",
    "polarity = analysis.sentiment.polarity\n",
    "polarity"
   ]
  },
  {
   "cell_type": "code",
   "execution_count": 14,
   "metadata": {},
   "outputs": [
    {
     "name": "stdout",
     "output_type": "stream",
     "text": [
      "Positive\n"
     ]
    }
   ],
   "source": [
    "\n",
    "analysis = TextBlob(text)\n",
    "polarity = analysis.sentiment.polarity\n",
    "\n",
    "if polarity > 0:\n",
    "    print(\"Positive\")\n",
    "elif polarity < 0:\n",
    "    print(\"Negative\")\n",
    "else:\n",
    "    print(\"Neutral\")"
   ]
  },
  {
   "cell_type": "code",
   "execution_count": 15,
   "metadata": {},
   "outputs": [],
   "source": [
    "# Function to perform sentiment analysis\n",
    "def get_sentiment(text):\n",
    "    if text:\n",
    "        analysis = TextBlob(text)\n",
    "        polarity = analysis.sentiment.polarity\n",
    "\n",
    "        if polarity > 0:\n",
    "            return \"Positive\"\n",
    "        elif polarity < 0:\n",
    "            return \"Negative\"\n",
    "        else:\n",
    "            return \"Neutral\"\n",
    "    else:\n",
    "        return \"Neutral\"\n"
   ]
  },
  {
   "cell_type": "code",
   "execution_count": 16,
   "metadata": {},
   "outputs": [
    {
     "name": "stdout",
     "output_type": "stream",
     "text": [
      "Tesla stock plunged 15 percent on Monday, its steepest drop in five years. The price is down over 50 percent since its December highs. Tesla owners, disgusted with Elon Muskâs slash-and-burn tactics for the Trump administration, are selling their vehicles a…\n",
      "-------------------\n",
      "Today we’re talking about the protests against Tesla, which have been branded on social media under the hashtag Tesla Takedown. The protests are, of course, a reaction to Elon Musk, who has managed to install himself as basically a not-so-shadow president who…\n",
      "-------------------\n",
      "As reports of vandalism and even a supposed doxing website targeting Tesla locations and vehicles continue to appear, Attorney General Pam Bondi issued a new warning about old crimes. In a Department of Justice press release, she “announced charges against th…\n",
      "-------------------\n",
      "The taxi service will initially operate with Tesla employee drivers only, use current-model vehicles, and won't allow for driverless rides.\n",
      "-------------------\n",
      "Ford is making some changes to how it handles its EV charging accessories. The company was the first to announce its plans to adopt Tesla’s North American Charging Standard (NACS) connector for its EVs, and was also first to distribute NACS adapters to its EV…\n",
      "-------------------\n",
      "Tesla is planning to install dozens of Supercharger sites at Steak ‘n Shake locations across the country, according to an exchange between the companies on X. The companies have signed an agreement for over six sites, with over 20 more to come. And if Steak ‘…\n",
      "-------------------\n",
      "CEO Jim Farley tells us that every qualified owner of a Ford electric car has received an adaptor that allows them to charge up at Tesla-operated Supercharger stations.\n",
      "-------------------\n",
      "Here's hoping Elon Musk won't have to personally fix President Trump's new EV anytime soon.\n",
      "-------------------\n",
      "America’s favorite low poly electric truck is facing a new set of problems that don’t have anything to do with people spray painting swastikas or crude comments about Elon Musk on them. Deliveries of the Tesla Cybertruck are on hold while the company addresse…\n",
      "-------------------\n",
      "At a surprise all-hands-on meeting Thursday night in Texas, Tesla CEO Elon Musk rallied up his company’s employees as the brand’s public reputation continues to plummet, Business Insider reports. At the livestreamed meeting, Musk told employees to “hang on to…\n",
      "-------------------\n"
     ]
    }
   ],
   "source": [
    "for article in data['articles']:\n",
    "    print(article['description'])\n",
    "    print('-------------------')"
   ]
  },
  {
   "cell_type": "code",
   "execution_count": 17,
   "metadata": {},
   "outputs": [
    {
     "name": "stdout",
     "output_type": "stream",
     "text": [
      "Negative\n",
      "Positive\n",
      "Positive\n",
      "Neutral\n",
      "Positive\n",
      "Positive\n",
      "Neutral\n",
      "Positive\n",
      "Negative\n",
      "Neutral\n"
     ]
    }
   ],
   "source": [
    "for article in data['articles']:\n",
    "    print(get_sentiment(article['description']))"
   ]
  },
  {
   "cell_type": "code",
   "execution_count": 18,
   "metadata": {},
   "outputs": [
    {
     "data": {
      "text/html": [
       "<div>\n",
       "<style scoped>\n",
       "    .dataframe tbody tr th:only-of-type {\n",
       "        vertical-align: middle;\n",
       "    }\n",
       "\n",
       "    .dataframe tbody tr th {\n",
       "        vertical-align: top;\n",
       "    }\n",
       "\n",
       "    .dataframe thead th {\n",
       "        text-align: right;\n",
       "    }\n",
       "</style>\n",
       "<table border=\"1\" class=\"dataframe\">\n",
       "  <thead>\n",
       "    <tr style=\"text-align: right;\">\n",
       "      <th></th>\n",
       "      <th>Title</th>\n",
       "      <th>Summary</th>\n",
       "    </tr>\n",
       "  </thead>\n",
       "  <tbody>\n",
       "    <tr>\n",
       "      <th>0</th>\n",
       "      <td>Is Tesla cooked?</td>\n",
       "      <td>Tesla stock plunged 15 percent on Monday, its ...</td>\n",
       "    </tr>\n",
       "    <tr>\n",
       "      <th>1</th>\n",
       "      <td>How the Tesla brand turned so toxic</td>\n",
       "      <td>Today we’re talking about the protests against...</td>\n",
       "    </tr>\n",
       "    <tr>\n",
       "      <th>2</th>\n",
       "      <td>US attorney general re-announces ‘severe’ char...</td>\n",
       "      <td>As reports of vandalism and even a supposed do...</td>\n",
       "    </tr>\n",
       "    <tr>\n",
       "      <th>3</th>\n",
       "      <td>Tesla Got a Permit to Operate a Taxi Service i...</td>\n",
       "      <td>The taxi service will initially operate with T...</td>\n",
       "    </tr>\n",
       "    <tr>\n",
       "      <th>4</th>\n",
       "      <td>Ford’s Tesla Supercharger adapters are now on ...</td>\n",
       "      <td>Ford is making some changes to how it handles ...</td>\n",
       "    </tr>\n",
       "    <tr>\n",
       "      <th>5</th>\n",
       "      <td>Tesla Superchargers coming to dozens of Steak ...</td>\n",
       "      <td>Tesla is planning to install dozens of Superch...</td>\n",
       "    </tr>\n",
       "    <tr>\n",
       "      <th>6</th>\n",
       "      <td>Ford Is Sticking With an EV Future</td>\n",
       "      <td>CEO Jim Farley tells us that every qualified o...</td>\n",
       "    </tr>\n",
       "    <tr>\n",
       "      <th>7</th>\n",
       "      <td>Donald Trump Bought a $90,000 Tesla With 37 Re...</td>\n",
       "      <td>Here's hoping Elon Musk won't have to personal...</td>\n",
       "    </tr>\n",
       "    <tr>\n",
       "      <th>8</th>\n",
       "      <td>Tesla Cybertruck deliveries reportedly on hold...</td>\n",
       "      <td>America’s favorite low poly electric truck is ...</td>\n",
       "    </tr>\n",
       "    <tr>\n",
       "      <th>9</th>\n",
       "      <td>Elon Musk made more promises about Optimus and...</td>\n",
       "      <td>At a surprise all-hands-on meeting Thursday ni...</td>\n",
       "    </tr>\n",
       "  </tbody>\n",
       "</table>\n",
       "</div>"
      ],
      "text/plain": [
       "                                               Title  \\\n",
       "0                                   Is Tesla cooked?   \n",
       "1                How the Tesla brand turned so toxic   \n",
       "2  US attorney general re-announces ‘severe’ char...   \n",
       "3  Tesla Got a Permit to Operate a Taxi Service i...   \n",
       "4  Ford’s Tesla Supercharger adapters are now on ...   \n",
       "5  Tesla Superchargers coming to dozens of Steak ...   \n",
       "6                 Ford Is Sticking With an EV Future   \n",
       "7  Donald Trump Bought a $90,000 Tesla With 37 Re...   \n",
       "8  Tesla Cybertruck deliveries reportedly on hold...   \n",
       "9  Elon Musk made more promises about Optimus and...   \n",
       "\n",
       "                                             Summary  \n",
       "0  Tesla stock plunged 15 percent on Monday, its ...  \n",
       "1  Today we’re talking about the protests against...  \n",
       "2  As reports of vandalism and even a supposed do...  \n",
       "3  The taxi service will initially operate with T...  \n",
       "4  Ford is making some changes to how it handles ...  \n",
       "5  Tesla is planning to install dozens of Superch...  \n",
       "6  CEO Jim Farley tells us that every qualified o...  \n",
       "7  Here's hoping Elon Musk won't have to personal...  \n",
       "8  America’s favorite low poly electric truck is ...  \n",
       "9  At a surprise all-hands-on meeting Thursday ni...  "
      ]
     },
     "execution_count": 18,
     "metadata": {},
     "output_type": "execute_result"
    }
   ],
   "source": [
    "new_data=pd.DataFrame(data['articles'])[['title','description']]\n",
    "new_data.rename(columns={'title':'Title','description':'Summary'},inplace=True)\n",
    "new_data\n"
   ]
  },
  {
   "cell_type": "code",
   "execution_count": 19,
   "metadata": {},
   "outputs": [
    {
     "name": "stdout",
     "output_type": "stream",
     "text": [
      "Negative\n",
      "Positive\n",
      "Positive\n",
      "Neutral\n",
      "Positive\n",
      "Positive\n",
      "Neutral\n",
      "Positive\n",
      "Negative\n",
      "Neutral\n"
     ]
    }
   ],
   "source": [
    "for i in new_data['Summary']:\n",
    "    print(get_sentiment(i))"
   ]
  },
  {
   "cell_type": "code",
   "execution_count": 20,
   "metadata": {},
   "outputs": [
    {
     "name": "stdout",
     "output_type": "stream",
     "text": [
      "['Negative', 'Positive', 'Positive', 'Neutral', 'Positive', 'Positive', 'Neutral', 'Positive', 'Negative', 'Neutral']\n"
     ]
    }
   ],
   "source": [
    "Sentiment=[]\n",
    "for i in new_data['Summary']:\n",
    "    Sentiment.append(get_sentiment(i))\n",
    "print(Sentiment)"
   ]
  },
  {
   "cell_type": "code",
   "execution_count": 21,
   "metadata": {},
   "outputs": [
    {
     "data": {
      "text/html": [
       "<div>\n",
       "<style scoped>\n",
       "    .dataframe tbody tr th:only-of-type {\n",
       "        vertical-align: middle;\n",
       "    }\n",
       "\n",
       "    .dataframe tbody tr th {\n",
       "        vertical-align: top;\n",
       "    }\n",
       "\n",
       "    .dataframe thead th {\n",
       "        text-align: right;\n",
       "    }\n",
       "</style>\n",
       "<table border=\"1\" class=\"dataframe\">\n",
       "  <thead>\n",
       "    <tr style=\"text-align: right;\">\n",
       "      <th></th>\n",
       "      <th>Title</th>\n",
       "      <th>Summary</th>\n",
       "      <th>Sentiment</th>\n",
       "    </tr>\n",
       "  </thead>\n",
       "  <tbody>\n",
       "    <tr>\n",
       "      <th>0</th>\n",
       "      <td>Is Tesla cooked?</td>\n",
       "      <td>Tesla stock plunged 15 percent on Monday, its ...</td>\n",
       "      <td>Negative</td>\n",
       "    </tr>\n",
       "    <tr>\n",
       "      <th>1</th>\n",
       "      <td>How the Tesla brand turned so toxic</td>\n",
       "      <td>Today we’re talking about the protests against...</td>\n",
       "      <td>Positive</td>\n",
       "    </tr>\n",
       "    <tr>\n",
       "      <th>2</th>\n",
       "      <td>US attorney general re-announces ‘severe’ char...</td>\n",
       "      <td>As reports of vandalism and even a supposed do...</td>\n",
       "      <td>Positive</td>\n",
       "    </tr>\n",
       "    <tr>\n",
       "      <th>3</th>\n",
       "      <td>Tesla Got a Permit to Operate a Taxi Service i...</td>\n",
       "      <td>The taxi service will initially operate with T...</td>\n",
       "      <td>Neutral</td>\n",
       "    </tr>\n",
       "    <tr>\n",
       "      <th>4</th>\n",
       "      <td>Ford’s Tesla Supercharger adapters are now on ...</td>\n",
       "      <td>Ford is making some changes to how it handles ...</td>\n",
       "      <td>Positive</td>\n",
       "    </tr>\n",
       "    <tr>\n",
       "      <th>5</th>\n",
       "      <td>Tesla Superchargers coming to dozens of Steak ...</td>\n",
       "      <td>Tesla is planning to install dozens of Superch...</td>\n",
       "      <td>Positive</td>\n",
       "    </tr>\n",
       "    <tr>\n",
       "      <th>6</th>\n",
       "      <td>Ford Is Sticking With an EV Future</td>\n",
       "      <td>CEO Jim Farley tells us that every qualified o...</td>\n",
       "      <td>Neutral</td>\n",
       "    </tr>\n",
       "    <tr>\n",
       "      <th>7</th>\n",
       "      <td>Donald Trump Bought a $90,000 Tesla With 37 Re...</td>\n",
       "      <td>Here's hoping Elon Musk won't have to personal...</td>\n",
       "      <td>Positive</td>\n",
       "    </tr>\n",
       "    <tr>\n",
       "      <th>8</th>\n",
       "      <td>Tesla Cybertruck deliveries reportedly on hold...</td>\n",
       "      <td>America’s favorite low poly electric truck is ...</td>\n",
       "      <td>Negative</td>\n",
       "    </tr>\n",
       "    <tr>\n",
       "      <th>9</th>\n",
       "      <td>Elon Musk made more promises about Optimus and...</td>\n",
       "      <td>At a surprise all-hands-on meeting Thursday ni...</td>\n",
       "      <td>Neutral</td>\n",
       "    </tr>\n",
       "  </tbody>\n",
       "</table>\n",
       "</div>"
      ],
      "text/plain": [
       "                                               Title  \\\n",
       "0                                   Is Tesla cooked?   \n",
       "1                How the Tesla brand turned so toxic   \n",
       "2  US attorney general re-announces ‘severe’ char...   \n",
       "3  Tesla Got a Permit to Operate a Taxi Service i...   \n",
       "4  Ford’s Tesla Supercharger adapters are now on ...   \n",
       "5  Tesla Superchargers coming to dozens of Steak ...   \n",
       "6                 Ford Is Sticking With an EV Future   \n",
       "7  Donald Trump Bought a $90,000 Tesla With 37 Re...   \n",
       "8  Tesla Cybertruck deliveries reportedly on hold...   \n",
       "9  Elon Musk made more promises about Optimus and...   \n",
       "\n",
       "                                             Summary Sentiment  \n",
       "0  Tesla stock plunged 15 percent on Monday, its ...  Negative  \n",
       "1  Today we’re talking about the protests against...  Positive  \n",
       "2  As reports of vandalism and even a supposed do...  Positive  \n",
       "3  The taxi service will initially operate with T...   Neutral  \n",
       "4  Ford is making some changes to how it handles ...  Positive  \n",
       "5  Tesla is planning to install dozens of Superch...  Positive  \n",
       "6  CEO Jim Farley tells us that every qualified o...   Neutral  \n",
       "7  Here's hoping Elon Musk won't have to personal...  Positive  \n",
       "8  America’s favorite low poly electric truck is ...  Negative  \n",
       "9  At a surprise all-hands-on meeting Thursday ni...   Neutral  "
      ]
     },
     "execution_count": 21,
     "metadata": {},
     "output_type": "execute_result"
    }
   ],
   "source": [
    "new_data['Sentiment']=Sentiment\n",
    "new_data"
   ]
  },
  {
   "cell_type": "markdown",
   "metadata": {},
   "source": [
    "## Comparative Analysis"
   ]
  },
  {
   "cell_type": "code",
   "execution_count": 22,
   "metadata": {},
   "outputs": [
    {
     "name": "stdout",
     "output_type": "stream",
     "text": [
      "  Sentiment  Count\n",
      "0  Positive      5\n",
      "1   Neutral      3\n",
      "2  Negative      2\n"
     ]
    }
   ],
   "source": [
    "# Group and count sentiment\n",
    "sentiment_count = new_data[\"Sentiment\"].value_counts().reset_index()\n",
    "sentiment_count.columns = [\"Sentiment\", \"Count\"]\n",
    "\n",
    "# Display sentiment distribution\n",
    "print(sentiment_count)"
   ]
  },
  {
   "cell_type": "markdown",
   "metadata": {},
   "source": [
    "## Visualize Sentiment Distribution"
   ]
  },
  {
   "cell_type": "code",
   "execution_count": 24,
   "metadata": {},
   "outputs": [
    {
     "data": {
      "image/png": "[encoded data removed]",
      "text/plain": [
       "<Figure size 800x500 with 1 Axes>"
      ]
     },
     "metadata": {},
     "output_type": "display_data"
    }
   ],
   "source": [
    "import matplotlib.pyplot as plt\n",
    "import seaborn as sns\n",
    "sns.set()\n",
    "\n",
    "# Plot sentiment distribution\n",
    "plt.figure(figsize=(8, 5))\n",
    "plt.bar(sentiment_count[\"Sentiment\"], sentiment_count[\"Count\"], color=[\"green\", \"red\", \"gray\"])\n",
    "plt.title(f\"Sentiment Analysis for {company_name}\")\n",
    "plt.xlabel(\"Sentiment\")\n",
    "plt.ylabel(\"Count of Articles\")\n",
    "plt.show()"
   ]
  },
  {
   "cell_type": "markdown",
   "metadata": {},
   "source": [
    "### Voice Generation"
   ]
  },
  {
   "cell_type": "code",
   "execution_count": 23,
   "metadata": {},
   "outputs": [],
   "source": [
    "from gtts import gTTS\n",
    "import os"
   ]
  },
  {
   "cell_type": "code",
   "execution_count": 31,
   "metadata": {},
   "outputs": [],
   "source": [
    "def text_to_speech(text, language='en', output_file='news_summary.mp3'):\n",
    "    if text.strip() == \"\":\n",
    "        print(\"No text provided for TTS conversion.\")\n",
    "        return\n",
    "\n",
    "    try:\n",
    "        # Initialize gTTS object\n",
    "        tts = gTTS(text=text, lang=language, slow=False)\n",
    "        \n",
    "        # Save the converted audio as MP3\n",
    "        tts.save(output_file)\n",
    "        print(f\"Audio saved as {output_file}\")\n",
    "        \n",
    "        # Play the audio file (optional)\n",
    "        os.system(f\"start {output_file}\" if os.name == \"nt\" else f\"afplay {output_file}\")\n",
    "\n",
    "    except Exception as e:\n",
    "        print(f\"Error during TTS conversion: {e}\")\n"
   ]
  },
  {
   "cell_type": "code",
   "execution_count": 32,
   "metadata": {},
   "outputs": [
    {
     "name": "stdout",
     "output_type": "stream",
     "text": [
      "Audio saved as news_summary.mp3\n"
     ]
    }
   ],
   "source": [
    "summarized_content = 'hi how are you'\n",
    "\n",
    "# Convert summarized content to Hindi speech\n",
    "text_to_speech(summarized_content)"
   ]
  },
  {
   "cell_type": "code",
   "execution_count": null,
   "metadata": {},
   "outputs": [],
   "source": []
  },
  {
   "cell_type": "code",
   "execution_count": null,
   "metadata": {},
   "outputs": [],
   "source": []
  },
  {
   "cell_type": "code",
   "execution_count": null,
   "metadata": {},
   "outputs": [],
   "source": []
  },
  {
   "cell_type": "code",
   "execution_count": null,
   "metadata": {},
   "outputs": [],
   "source": []
  },
  {
   "cell_type": "code",
   "execution_count": null,
   "metadata": {},
   "outputs": [],
   "source": []
  },
  {
   "cell_type": "code",
   "execution_count": null,
   "metadata": {},
   "outputs": [],
   "source": []
  }
 ],
 "metadata": {
  "kernelspec": {
   "display_name": "Python 3",
   "language": "python",
   "name": "python3"
  },
  "language_info": {
   "codemirror_mode": {
    "name": "ipython",
    "version": 3
   },
   "file_extension": ".py",
   "mimetype": "text/x-python",
   "name": "python",
   "nbconvert_exporter": "python",
   "pygments_lexer": "ipython3",
   "version": "3.8.20"
  }
 },
 "nbformat": 4,
 "nbformat_minor": 2
}
